{
 "cells": [
  {
   "cell_type": "code",
   "execution_count": 3,
   "id": "6c6aba7e-efcb-4430-96be-0616f50bea19",
   "metadata": {},
   "outputs": [
    {
     "name": "stdout",
     "output_type": "stream",
     "text": [
      "Using score column: total\n",
      "Class average (mean): 232.05555555555554\n",
      "Found 5 students above the class average.\n",
      "\n",
      "Top 3 students by total\n"
     ]
    },
    {
     "data": {
      "image/png": "[encoded data removed]",
      "text/plain": [
       "<Figure size 800x500 with 1 Axes>"
      ]
     },
     "metadata": {},
     "output_type": "display_data"
    },
    {
     "name": "stdout",
     "output_type": "stream",
     "text": [
      "Saved above-average students to above_average.csv\n"
     ]
    }
   ],
   "source": [
    "# WEEK 3 project(data cleaning,analysis and charts)\n",
    "import pandas as pd\n",
    "import numpy as np\n",
    "import matplotlib.pyplot as plt\n",
    "df = pd.read_csv('students_clean.csv')\n",
    "# 1) detect which column to treat as the student's overall score (its adviceable to use this method for robust data)\n",
    "# prefer 'total', then 'score', then 'average', otherwise sum numeric columns\n",
    "score_col = None\n",
    "if \"total\" in df.columns:\n",
    "    score_col = \"total\"\n",
    "elif \"score\" in df.columns:\n",
    "    score_col = \"score\"\n",
    "elif \"average\" in df.columns:\n",
    "    score_col = \"average\"\n",
    "else:\n",
    "    # find numeric columns (ints/floats) and use them to create a total if needed\n",
    "    numeric_cols = [c for c in df.columns if pd.api.types.is_numeric_dtype(df[c])]\n",
    "    # if there are multiple numeric columns that look like subject scores, sum them\n",
    "    if len(numeric_cols) >= 2:\n",
    "        # exclude some likely non-score numeric columns if present (index/id)\n",
    "        exclude = [\"id\", \"student_id\", \"index\"]\n",
    "        subjects = [c for c in numeric_cols if c.lower() not in exclude]\n",
    "        df[\"total\"] = df[subjects].sum(axis=1)\n",
    "        score_col = \"total\"\n",
    "    elif numeric_cols:\n",
    "        score_col = numeric_cols[0]\n",
    "    else:\n",
    "        raise ValueError(\"No numeric score column found. Please ensure you have 'total' or numeric subject columns.\")\n",
    "\n",
    "print(\"Using score column:\", score_col)\n",
    "# 2) compute the class (overall) average (mean)\n",
    "class_average = df[score_col].mean()\n",
    "print(\"Class average (mean):\", class_average)\n",
    "# 3) list students who scored above the class average\n",
    "above_avg = df[df[score_col] > class_average].copy()   # .copy() so we can safely modify if needed\n",
    "above_avg = above_avg.reset_index(drop=True)          # tidy index for display\n",
    "print(f\"Found {len(above_avg)} students above the class average.\\n\")\n",
    "above_avg\n",
    "# 4) find the top 3 students by the chosen score column\n",
    "top3 = df.nlargest(3, score_col).reset_index(drop=True)\n",
    "print(\"Top 3 students by\", score_col)\n",
    "top3[[\"name\", score_col]]\n",
    "# 5) plot a clear bar chart of the top 3\n",
    "import matplotlib.pyplot as plt\n",
    "\n",
    "plt.figure(figsize=(8,5))\n",
    "bars = plt.bar(top3[\"name\"], top3[score_col], color=[\"#4c72b0\", \"#55a868\", \"#c44e52\"])\n",
    "plt.title(f\"Top 3 Students by {score_col.title()}\")\n",
    "plt.ylabel(score_col.title())\n",
    "plt.xlabel(\"Student Name\")\n",
    "plt.ylim(0, top3[score_col].max() + 50)   # give some headroom\n",
    "\n",
    "# put value labels on top of each bar\n",
    "for bar in bars:\n",
    "    h = bar.get_height()\n",
    "    plt.text(bar.get_x() + bar.get_width()/2, h + 0.5, f\"{h:.0f}\", ha=\"center\")\n",
    "\n",
    "plt.xticks(rotation=0)\n",
    "plt.show()\n",
    "# 6) save the above-average students to CSV\n",
    "output_file = \"above_average.csv\"\n",
    "above_avg.to_csv(output_file, index=False)\n",
    "print(\"Saved above-average students to\", output_file)"
   ]
  },
  {
   "cell_type": "code",
   "execution_count": null,
   "id": "7427dd1e-afa4-4481-923a-264e899e1007",
   "metadata": {},
   "outputs": [],
   "source": []
  }
 ],
 "metadata": {
  "kernelspec": {
   "display_name": "Python 3 (ipykernel)",
   "language": "python",
   "name": "python3"
  },
  "language_info": {
   "codemirror_mode": {
    "name": "ipython",
    "version": 3
   },
   "file_extension": ".py",
   "mimetype": "text/x-python",
   "name": "python",
   "nbconvert_exporter": "python",
   "pygments_lexer": "ipython3",
   "version": "3.10.18"
  }
 },
 "nbformat": 4,
 "nbformat_minor": 5
}
